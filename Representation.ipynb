{
 "cells": [
  {
   "cell_type": "code",
   "execution_count": 1,
   "metadata": {
    "collapsed": true
   },
   "outputs": [],
   "source": [
    "%load_ext autoreload\n",
    "%autoreload 2\n",
    "import pandas as pd\n",
    "import glob\n",
    "import os\n",
    "import csv\n",
    "import numpy as np\n",
    "import matplotlib\n",
    "\n",
    "import seaborn as sns\n",
    "import plotly.plotly as py\n",
    "sns.set(style=\"darkgrid\", font_scale=1.5)\n",
    "%matplotlib inline"
   ]
  },
  {
   "cell_type": "code",
   "execution_count": 2,
   "metadata": {
    "collapsed": true
   },
   "outputs": [],
   "source": [
    "# Construct the dataframe from BoS Data\n",
    "\n",
    "amsa2013 = pd.read_excel('oesm13ma/aMSA_M2013_dl.xls')\n",
    "bos2013 = pd.read_excel('oesm13ma/BOS_M2013_dl.xls')\n",
    "msa2013_1 = pd.read_excel('oesm13ma/MSA_M2013_dl_1_AK_IN.xls')\n",
    "msa2013_2 = pd.read_excel('oesm13ma/MSA_M2013_dl_2_KS_NY.xls')\n",
    "msa2013_3 = pd.read_excel('oesm13ma/MSA_M2013_dl_3_OH_WY.xls')\n",
    "msa2013 = pd.concat([msa2013_1, msa2013_2, msa2013_3, amsa2013, bos2013], ignore_index=True)\n",
    "# Clean non-numeric value in 'TOT_EMP'\n",
    "msa2013.loc[msa2013[[not isinstance(x, int) for x in msa2013['TOT_EMP']]].index, 'TOT_EMP'] = 0"
   ]
  },
  {
   "cell_type": "code",
   "execution_count": 3,
   "metadata": {
    "collapsed": true
   },
   "outputs": [],
   "source": [
    "# Construct the dataframe from Data@Work Data\n",
    "os2013q1 = pd.read_csv('open-skills-data/2013Q1.csv')\n",
    "os2013q2 = pd.read_csv('open-skills-data/2013Q2.csv')\n",
    "os2013q3 = pd.read_csv('open-skills-data/2013Q3.csv')\n",
    "os2013q4 = pd.read_csv('open-skills-data/2013Q4.csv')\n",
    "os2013 = pd.concat([os2013q1, os2013q2, os2013q3, os2013q4], ignore_index=True)\n",
    "os2013['major_group'] = pd.Series(list(map(lambda x: x[:2]+'-0000', os2013['soc_code'])))"
   ]
  },
  {
   "cell_type": "code",
   "execution_count": 17,
   "metadata": {
    "collapsed": true
   },
   "outputs": [],
   "source": [
    "# Construct Lookup for fips and name\n",
    "d = os2013[['cbsa_fips','cbsa_name']].drop_duplicates()\n",
    "lookup = dict(zip(d['cbsa_fips'],d['cbsa_name']))"
   ]
  },
  {
   "cell_type": "code",
   "execution_count": 18,
   "metadata": {},
   "outputs": [
    {
     "data": {
      "text/html": [
       "<div>\n",
       "<style>\n",
       "    .dataframe thead tr:only-child th {\n",
       "        text-align: right;\n",
       "    }\n",
       "\n",
       "    .dataframe thead th {\n",
       "        text-align: left;\n",
       "    }\n",
       "\n",
       "    .dataframe tbody tr th {\n",
       "        vertical-align: top;\n",
       "    }\n",
       "</style>\n",
       "<table border=\"1\" class=\"dataframe\">\n",
       "  <thead>\n",
       "    <tr style=\"text-align: right;\">\n",
       "      <th></th>\n",
       "      <th>PRIM_STATE</th>\n",
       "      <th>AREA</th>\n",
       "      <th>AREA_NAME</th>\n",
       "      <th>OCC_CODE</th>\n",
       "      <th>OCC_TITLE</th>\n",
       "      <th>OCC_GROUP</th>\n",
       "      <th>TOT_EMP</th>\n",
       "      <th>EMP_PRSE</th>\n",
       "      <th>JOBS_1000</th>\n",
       "      <th>LOC QUOTIENT</th>\n",
       "      <th>...</th>\n",
       "      <th>H_MEDIAN</th>\n",
       "      <th>H_PCT75</th>\n",
       "      <th>H_PCT90</th>\n",
       "      <th>A_PCT10</th>\n",
       "      <th>A_PCT25</th>\n",
       "      <th>A_MEDIAN</th>\n",
       "      <th>A_PCT75</th>\n",
       "      <th>A_PCT90</th>\n",
       "      <th>ANNUAL</th>\n",
       "      <th>HOURLY</th>\n",
       "    </tr>\n",
       "  </thead>\n",
       "  <tbody>\n",
       "    <tr>\n",
       "      <th>0</th>\n",
       "      <td>AK</td>\n",
       "      <td>11260</td>\n",
       "      <td>Anchorage, AK</td>\n",
       "      <td>00-0000</td>\n",
       "      <td>All Occupations</td>\n",
       "      <td>total</td>\n",
       "      <td>175540</td>\n",
       "      <td>2.1</td>\n",
       "      <td>1000</td>\n",
       "      <td>1</td>\n",
       "      <td>...</td>\n",
       "      <td>20.76</td>\n",
       "      <td>32.69</td>\n",
       "      <td>45.88</td>\n",
       "      <td>20910</td>\n",
       "      <td>28680</td>\n",
       "      <td>43180</td>\n",
       "      <td>68000</td>\n",
       "      <td>95430</td>\n",
       "      <td>NaN</td>\n",
       "      <td>NaN</td>\n",
       "    </tr>\n",
       "    <tr>\n",
       "      <th>1</th>\n",
       "      <td>AK</td>\n",
       "      <td>11260</td>\n",
       "      <td>Anchorage, AK</td>\n",
       "      <td>11-0000</td>\n",
       "      <td>Management Occupations</td>\n",
       "      <td>major</td>\n",
       "      <td>10370</td>\n",
       "      <td>2.4</td>\n",
       "      <td>59.087</td>\n",
       "      <td>1.2</td>\n",
       "      <td>...</td>\n",
       "      <td>46.09</td>\n",
       "      <td>63.15</td>\n",
       "      <td>85.96</td>\n",
       "      <td>51940</td>\n",
       "      <td>69250</td>\n",
       "      <td>95860</td>\n",
       "      <td>131360</td>\n",
       "      <td>178810</td>\n",
       "      <td>NaN</td>\n",
       "      <td>NaN</td>\n",
       "    </tr>\n",
       "    <tr>\n",
       "      <th>2</th>\n",
       "      <td>AK</td>\n",
       "      <td>11260</td>\n",
       "      <td>Anchorage, AK</td>\n",
       "      <td>11-1011</td>\n",
       "      <td>Chief Executives</td>\n",
       "      <td>detailed</td>\n",
       "      <td>320</td>\n",
       "      <td>4.5</td>\n",
       "      <td>1.817</td>\n",
       "      <td>0.97</td>\n",
       "      <td>...</td>\n",
       "      <td>76.9</td>\n",
       "      <td>#</td>\n",
       "      <td>#</td>\n",
       "      <td>97190</td>\n",
       "      <td>115700</td>\n",
       "      <td>159940</td>\n",
       "      <td>#</td>\n",
       "      <td>#</td>\n",
       "      <td>NaN</td>\n",
       "      <td>NaN</td>\n",
       "    </tr>\n",
       "    <tr>\n",
       "      <th>3</th>\n",
       "      <td>AK</td>\n",
       "      <td>11260</td>\n",
       "      <td>Anchorage, AK</td>\n",
       "      <td>11-1021</td>\n",
       "      <td>General and Operations Managers</td>\n",
       "      <td>detailed</td>\n",
       "      <td>4010</td>\n",
       "      <td>3.2</td>\n",
       "      <td>22.828</td>\n",
       "      <td>1.53</td>\n",
       "      <td>...</td>\n",
       "      <td>45.74</td>\n",
       "      <td>64.77</td>\n",
       "      <td>89.36</td>\n",
       "      <td>52020</td>\n",
       "      <td>66980</td>\n",
       "      <td>95140</td>\n",
       "      <td>134720</td>\n",
       "      <td>185870</td>\n",
       "      <td>NaN</td>\n",
       "      <td>NaN</td>\n",
       "    </tr>\n",
       "    <tr>\n",
       "      <th>4</th>\n",
       "      <td>AK</td>\n",
       "      <td>11260</td>\n",
       "      <td>Anchorage, AK</td>\n",
       "      <td>11-2011</td>\n",
       "      <td>Advertising and Promotions Managers</td>\n",
       "      <td>detailed</td>\n",
       "      <td>40</td>\n",
       "      <td>27.6</td>\n",
       "      <td>0.207</td>\n",
       "      <td>0.96</td>\n",
       "      <td>...</td>\n",
       "      <td>32.49</td>\n",
       "      <td>49.3</td>\n",
       "      <td>56.59</td>\n",
       "      <td>42670</td>\n",
       "      <td>49100</td>\n",
       "      <td>67580</td>\n",
       "      <td>102550</td>\n",
       "      <td>117710</td>\n",
       "      <td>NaN</td>\n",
       "      <td>NaN</td>\n",
       "    </tr>\n",
       "  </tbody>\n",
       "</table>\n",
       "<p>5 rows × 25 columns</p>\n",
       "</div>"
      ],
      "text/plain": [
       "  PRIM_STATE   AREA      AREA_NAME OCC_CODE  \\\n",
       "0         AK  11260  Anchorage, AK  00-0000   \n",
       "1         AK  11260  Anchorage, AK  11-0000   \n",
       "2         AK  11260  Anchorage, AK  11-1011   \n",
       "3         AK  11260  Anchorage, AK  11-1021   \n",
       "4         AK  11260  Anchorage, AK  11-2011   \n",
       "\n",
       "                             OCC_TITLE OCC_GROUP TOT_EMP EMP_PRSE JOBS_1000  \\\n",
       "0                      All Occupations     total  175540      2.1      1000   \n",
       "1               Management Occupations     major   10370      2.4    59.087   \n",
       "2                     Chief Executives  detailed     320      4.5     1.817   \n",
       "3      General and Operations Managers  detailed    4010      3.2    22.828   \n",
       "4  Advertising and Promotions Managers  detailed      40     27.6     0.207   \n",
       "\n",
       "  LOC QUOTIENT  ...   H_MEDIAN H_PCT75 H_PCT90 A_PCT10 A_PCT25 A_MEDIAN  \\\n",
       "0            1  ...      20.76   32.69   45.88   20910   28680    43180   \n",
       "1          1.2  ...      46.09   63.15   85.96   51940   69250    95860   \n",
       "2         0.97  ...       76.9       #       #   97190  115700   159940   \n",
       "3         1.53  ...      45.74   64.77   89.36   52020   66980    95140   \n",
       "4         0.96  ...      32.49    49.3   56.59   42670   49100    67580   \n",
       "\n",
       "  A_PCT75 A_PCT90 ANNUAL HOURLY  \n",
       "0   68000   95430    NaN    NaN  \n",
       "1  131360  178810    NaN    NaN  \n",
       "2       #       #    NaN    NaN  \n",
       "3  134720  185870    NaN    NaN  \n",
       "4  102550  117710    NaN    NaN  \n",
       "\n",
       "[5 rows x 25 columns]"
      ]
     },
     "execution_count": 18,
     "metadata": {},
     "output_type": "execute_result"
    }
   ],
   "source": [
    "msa2013.head()"
   ]
  },
  {
   "cell_type": "code",
   "execution_count": 19,
   "metadata": {},
   "outputs": [
    {
     "data": {
      "text/html": [
       "<div>\n",
       "<style>\n",
       "    .dataframe thead tr:only-child th {\n",
       "        text-align: right;\n",
       "    }\n",
       "\n",
       "    .dataframe thead th {\n",
       "        text-align: left;\n",
       "    }\n",
       "\n",
       "    .dataframe tbody tr th {\n",
       "        vertical-align: top;\n",
       "    }\n",
       "</style>\n",
       "<table border=\"1\" class=\"dataframe\">\n",
       "  <thead>\n",
       "    <tr style=\"text-align: right;\">\n",
       "      <th></th>\n",
       "      <th>cbsa_fips</th>\n",
       "      <th>cbsa_name</th>\n",
       "      <th>state_code</th>\n",
       "      <th>soc_code</th>\n",
       "      <th>counts_total</th>\n",
       "      <th>major_group</th>\n",
       "    </tr>\n",
       "  </thead>\n",
       "  <tbody>\n",
       "    <tr>\n",
       "      <th>0</th>\n",
       "      <td>39580</td>\n",
       "      <td>Raleigh-Cary, NC Metro Area</td>\n",
       "      <td>NC</td>\n",
       "      <td>17-2112.00</td>\n",
       "      <td>8</td>\n",
       "      <td>17-0000</td>\n",
       "    </tr>\n",
       "    <tr>\n",
       "      <th>1</th>\n",
       "      <td>12060</td>\n",
       "      <td>Atlanta-Sandy Springs-Marietta, GA Metro Area</td>\n",
       "      <td>GA</td>\n",
       "      <td>29-1062.00</td>\n",
       "      <td>10</td>\n",
       "      <td>29-0000</td>\n",
       "    </tr>\n",
       "    <tr>\n",
       "      <th>2</th>\n",
       "      <td>16700</td>\n",
       "      <td>Charleston-North Charleston-Summerville, SC Me...</td>\n",
       "      <td>SC</td>\n",
       "      <td>39-9032.00</td>\n",
       "      <td>3</td>\n",
       "      <td>39-0000</td>\n",
       "    </tr>\n",
       "    <tr>\n",
       "      <th>3</th>\n",
       "      <td>41700</td>\n",
       "      <td>San Antonio-New Braunfels, TX Metro Area</td>\n",
       "      <td>TX</td>\n",
       "      <td>29-1051.00</td>\n",
       "      <td>37</td>\n",
       "      <td>29-0000</td>\n",
       "    </tr>\n",
       "    <tr>\n",
       "      <th>4</th>\n",
       "      <td>20700</td>\n",
       "      <td>East Stroudsburg, PA Micro Area</td>\n",
       "      <td>PA</td>\n",
       "      <td>11-2022.00</td>\n",
       "      <td>1</td>\n",
       "      <td>11-0000</td>\n",
       "    </tr>\n",
       "  </tbody>\n",
       "</table>\n",
       "</div>"
      ],
      "text/plain": [
       "   cbsa_fips                                          cbsa_name state_code  \\\n",
       "0      39580                        Raleigh-Cary, NC Metro Area         NC   \n",
       "1      12060      Atlanta-Sandy Springs-Marietta, GA Metro Area         GA   \n",
       "2      16700  Charleston-North Charleston-Summerville, SC Me...         SC   \n",
       "3      41700           San Antonio-New Braunfels, TX Metro Area         TX   \n",
       "4      20700                    East Stroudsburg, PA Micro Area         PA   \n",
       "\n",
       "     soc_code  counts_total major_group  \n",
       "0  17-2112.00             8     17-0000  \n",
       "1  29-1062.00            10     29-0000  \n",
       "2  39-9032.00             3     39-0000  \n",
       "3  29-1051.00            37     29-0000  \n",
       "4  11-2022.00             1     11-0000  "
      ]
     },
     "execution_count": 19,
     "metadata": {},
     "output_type": "execute_result"
    }
   ],
   "source": [
    "os2013.head()"
   ]
  },
  {
   "cell_type": "markdown",
   "metadata": {},
   "source": [
    "# Difference between BoS and Data@Work in 2013"
   ]
  },
  {
   "cell_type": "code",
   "execution_count": 23,
   "metadata": {},
   "outputs": [
    {
     "name": "stdout",
     "output_type": "stream",
     "text": [
      "How many MSAs? 586\n"
     ]
    }
   ],
   "source": [
    "print('How many MSAs?', msa2013['AREA'].unique().shape[0])"
   ]
  },
  {
   "cell_type": "code",
   "execution_count": 54,
   "metadata": {},
   "outputs": [
    {
     "data": {
      "text/plain": [
       "950"
      ]
     },
     "execution_count": 54,
     "metadata": {},
     "output_type": "execute_result"
    }
   ],
   "source": [
    "os2013['cbsa_fips'].unique().shape[0]"
   ]
  },
  {
   "cell_type": "code",
   "execution_count": 24,
   "metadata": {},
   "outputs": [
    {
     "data": {
      "text/plain": [
       "52"
      ]
     },
     "execution_count": 24,
     "metadata": {},
     "output_type": "execute_result"
    }
   ],
   "source": [
    "msa2013['PRIM_STATE'].unique().shape[0]"
   ]
  },
  {
   "cell_type": "code",
   "execution_count": 25,
   "metadata": {},
   "outputs": [
    {
     "data": {
      "text/plain": [
       "52"
      ]
     },
     "execution_count": 25,
     "metadata": {},
     "output_type": "execute_result"
    }
   ],
   "source": [
    "os2013['state_code'].unique().shape[0]"
   ]
  },
  {
   "cell_type": "markdown",
   "metadata": {},
   "source": []
  },
  {
   "cell_type": "code",
   "execution_count": 51,
   "metadata": {},
   "outputs": [
    {
     "data": {
      "text/plain": [
       "169657540"
      ]
     },
     "execution_count": 51,
     "metadata": {},
     "output_type": "execute_result"
    }
   ],
   "source": [
    "msa2013[msa2013['OCC_GROUP']=='total']['TOT_EMP'].sum()"
   ]
  },
  {
   "cell_type": "code",
   "execution_count": 39,
   "metadata": {},
   "outputs": [
    {
     "data": {
      "text/plain": [
       "3745190"
      ]
     },
     "execution_count": 39,
     "metadata": {},
     "output_type": "execute_result"
    }
   ],
   "source": [
    "os2013['counts_total'].sum()"
   ]
  },
  {
   "cell_type": "code",
   "execution_count": null,
   "metadata": {
    "collapsed": true
   },
   "outputs": [],
   "source": []
  },
  {
   "cell_type": "code",
   "execution_count": 60,
   "metadata": {},
   "outputs": [
    {
     "data": {
      "text/plain": [
       "(22,)"
      ]
     },
     "execution_count": 60,
     "metadata": {},
     "output_type": "execute_result"
    }
   ],
   "source": [
    "msa2013[msa2013['OCC_GROUP']=='major']['OCC_CODE'].unique().shape"
   ]
  },
  {
   "cell_type": "code",
   "execution_count": 61,
   "metadata": {},
   "outputs": [
    {
     "data": {
      "text/plain": [
       "(23,)"
      ]
     },
     "execution_count": 61,
     "metadata": {},
     "output_type": "execute_result"
    }
   ],
   "source": [
    "os2013['major_group'].unique().shape"
   ]
  },
  {
   "cell_type": "code",
   "execution_count": 69,
   "metadata": {},
   "outputs": [
    {
     "data": {
      "text/plain": [
       "(754, 6)"
      ]
     },
     "execution_count": 69,
     "metadata": {},
     "output_type": "execute_result"
    }
   ],
   "source": [
    "os2013[os2013['major_group'] == '55-0000'].shape"
   ]
  },
  {
   "cell_type": "code",
   "execution_count": 68,
   "metadata": {},
   "outputs": [
    {
     "data": {
      "text/plain": [
       "array(['17-0000', '29-0000', '39-0000', '11-0000', '43-0000', '15-0000',\n",
       "       '41-0000', '53-0000', '37-0000', '27-0000', '25-0000', '51-0000',\n",
       "       '49-0000', '35-0000', '33-0000', '31-0000', '13-0000', '21-0000',\n",
       "       '19-0000', '47-0000', '23-0000', '55-0000', '45-0000'], dtype=object)"
      ]
     },
     "execution_count": 68,
     "metadata": {},
     "output_type": "execute_result"
    }
   ],
   "source": [
    "os2013['major_group'].unique()"
   ]
  },
  {
   "cell_type": "code",
   "execution_count": 74,
   "metadata": {},
   "outputs": [
    {
     "data": {
      "text/plain": [
       "7441"
      ]
     },
     "execution_count": 74,
     "metadata": {},
     "output_type": "execute_result"
    }
   ],
   "source": [
    "os2013[(os2013['cbsa_fips']==40380)]['counts_total'].sum()"
   ]
  },
  {
   "cell_type": "code",
   "execution_count": 86,
   "metadata": {},
   "outputs": [
    {
     "data": {
      "text/html": [
       "<div>\n",
       "<style>\n",
       "    .dataframe thead tr:only-child th {\n",
       "        text-align: right;\n",
       "    }\n",
       "\n",
       "    .dataframe thead th {\n",
       "        text-align: left;\n",
       "    }\n",
       "\n",
       "    .dataframe tbody tr th {\n",
       "        vertical-align: top;\n",
       "    }\n",
       "</style>\n",
       "<table border=\"1\" class=\"dataframe\">\n",
       "  <thead>\n",
       "    <tr style=\"text-align: right;\">\n",
       "      <th></th>\n",
       "      <th>counts_total</th>\n",
       "    </tr>\n",
       "    <tr>\n",
       "      <th>soc_code</th>\n",
       "      <th></th>\n",
       "    </tr>\n",
       "  </thead>\n",
       "  <tbody>\n",
       "    <tr>\n",
       "      <th>41-1011.00</th>\n",
       "      <td>54</td>\n",
       "    </tr>\n",
       "    <tr>\n",
       "      <th>41-1012.00</th>\n",
       "      <td>5</td>\n",
       "    </tr>\n",
       "    <tr>\n",
       "      <th>41-2011.00</th>\n",
       "      <td>2</td>\n",
       "    </tr>\n",
       "    <tr>\n",
       "      <th>41-2021.00</th>\n",
       "      <td>17</td>\n",
       "    </tr>\n",
       "    <tr>\n",
       "      <th>41-2022.00</th>\n",
       "      <td>5</td>\n",
       "    </tr>\n",
       "    <tr>\n",
       "      <th>41-2031.00</th>\n",
       "      <td>690</td>\n",
       "    </tr>\n",
       "    <tr>\n",
       "      <th>41-3011.00</th>\n",
       "      <td>273</td>\n",
       "    </tr>\n",
       "    <tr>\n",
       "      <th>41-3021.00</th>\n",
       "      <td>672</td>\n",
       "    </tr>\n",
       "    <tr>\n",
       "      <th>41-3031.01</th>\n",
       "      <td>3</td>\n",
       "    </tr>\n",
       "    <tr>\n",
       "      <th>41-3031.02</th>\n",
       "      <td>237</td>\n",
       "    </tr>\n",
       "    <tr>\n",
       "      <th>41-3031.03</th>\n",
       "      <td>1</td>\n",
       "    </tr>\n",
       "    <tr>\n",
       "      <th>41-3099.00</th>\n",
       "      <td>35</td>\n",
       "    </tr>\n",
       "    <tr>\n",
       "      <th>41-4011.00</th>\n",
       "      <td>261</td>\n",
       "    </tr>\n",
       "    <tr>\n",
       "      <th>41-4012.00</th>\n",
       "      <td>447</td>\n",
       "    </tr>\n",
       "    <tr>\n",
       "      <th>41-9011.00</th>\n",
       "      <td>2</td>\n",
       "    </tr>\n",
       "    <tr>\n",
       "      <th>41-9012.00</th>\n",
       "      <td>1</td>\n",
       "    </tr>\n",
       "    <tr>\n",
       "      <th>41-9021.00</th>\n",
       "      <td>5</td>\n",
       "    </tr>\n",
       "    <tr>\n",
       "      <th>41-9022.00</th>\n",
       "      <td>11</td>\n",
       "    </tr>\n",
       "    <tr>\n",
       "      <th>41-9031.00</th>\n",
       "      <td>5</td>\n",
       "    </tr>\n",
       "    <tr>\n",
       "      <th>41-9041.00</th>\n",
       "      <td>37</td>\n",
       "    </tr>\n",
       "  </tbody>\n",
       "</table>\n",
       "</div>"
      ],
      "text/plain": [
       "            counts_total\n",
       "soc_code                \n",
       "41-1011.00            54\n",
       "41-1012.00             5\n",
       "41-2011.00             2\n",
       "41-2021.00            17\n",
       "41-2022.00             5\n",
       "41-2031.00           690\n",
       "41-3011.00           273\n",
       "41-3021.00           672\n",
       "41-3031.01             3\n",
       "41-3031.02           237\n",
       "41-3031.03             1\n",
       "41-3099.00            35\n",
       "41-4011.00           261\n",
       "41-4012.00           447\n",
       "41-9011.00             2\n",
       "41-9012.00             1\n",
       "41-9021.00             5\n",
       "41-9022.00            11\n",
       "41-9031.00             5\n",
       "41-9041.00            37"
      ]
     },
     "execution_count": 86,
     "metadata": {},
     "output_type": "execute_result"
    }
   ],
   "source": [
    "os2013[(os2013['cbsa_fips']==40380) & (os2013['major_group']=='41-0000')].groupby('soc_code')['counts_total'].sum().to_frame()"
   ]
  },
  {
   "cell_type": "code",
   "execution_count": null,
   "metadata": {
    "collapsed": true
   },
   "outputs": [],
   "source": []
  },
  {
   "cell_type": "code",
   "execution_count": null,
   "metadata": {
    "collapsed": true
   },
   "outputs": [],
   "source": []
  }
 ],
 "metadata": {
  "kernelspec": {
   "display_name": "Python 3",
   "language": "python",
   "name": "python3"
  },
  "language_info": {
   "codemirror_mode": {
    "name": "ipython",
    "version": 3
   },
   "file_extension": ".py",
   "mimetype": "text/x-python",
   "name": "python",
   "nbconvert_exporter": "python",
   "pygments_lexer": "ipython3",
   "version": "3.5.2"
  }
 },
 "nbformat": 4,
 "nbformat_minor": 2
}
